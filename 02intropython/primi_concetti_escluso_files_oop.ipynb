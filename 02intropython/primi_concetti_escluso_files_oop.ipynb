{
 "cells": [
  {
   "cell_type": "markdown",
   "id": "dc2174f6",
   "metadata": {},
   "source": [
    "Python per tutti\n",
    "Esplorare dati con Python 3\n",
    "Charles R. Severance"
   ]
  },
  {
   "cell_type": "markdown",
   "id": "81fcd269",
   "metadata": {},
   "source": [
    "# hardware\n"
   ]
  },
  {
   "cell_type": "markdown",
   "id": "48232ecc",
   "metadata": {},
   "source": [
    "<img src='hardware.jpg'>\n"
   ]
  },
  {
   "cell_type": "markdown",
   "id": "971d988a",
   "metadata": {},
   "source": [
    "# parole riservate\n"
   ]
  },
  {
   "cell_type": "markdown",
   "id": "e118603f",
   "metadata": {},
   "source": [
    "<img src='parole_riservate.jpg'>\n"
   ]
  },
  {
   "cell_type": "markdown",
   "id": "6082a6ff",
   "metadata": {},
   "source": [
    "# Facciamo 'parlare' il nostro programma Python\n"
   ]
  },
  {
   "cell_type": "code",
   "execution_count": 1,
   "id": "694da2e6",
   "metadata": {},
   "outputs": [
    {
     "name": "stdout",
     "output_type": "stream",
     "text": [
      "Hello World!\n"
     ]
    }
   ],
   "source": [
    "print ('Hello World!')"
   ]
  },
  {
   "cell_type": "markdown",
   "id": "4e480c24",
   "metadata": {},
   "source": [
    "# il nostro programma Python è sottoposto all'interprete "
   ]
  },
  {
   "cell_type": "markdown",
   "id": "45e83dd0",
   "metadata": {},
   "source": [
    "<img src='interprete.jpg'>"
   ]
  },
  {
   "cell_type": "markdown",
   "id": "5ad427e8",
   "metadata": {},
   "source": [
    "# variabili"
   ]
  },
  {
   "cell_type": "markdown",
   "id": "a19819ae",
   "metadata": {},
   "source": [
    "Se voglamo che Python ricordi un valore per un secondo momento, allora va scelto un nome per quel valore da ricordare e da utilizzare in seguito.\n",
    "Con il termine ' variabile' facciamo riferimento all'etichetta che usiamo per riferirci a questo dato memorizzato"
   ]
  },
  {
   "cell_type": "code",
   "execution_count": 5,
   "id": "672fbbaf",
   "metadata": {},
   "outputs": [],
   "source": [
    "x=6\n"
   ]
  },
  {
   "cell_type": "code",
   "execution_count": 6,
   "id": "bf8ab57b",
   "metadata": {},
   "outputs": [
    {
     "name": "stdout",
     "output_type": "stream",
     "text": [
      "6\n"
     ]
    }
   ],
   "source": [
    "print (x)"
   ]
  },
  {
   "cell_type": "code",
   "execution_count": 7,
   "id": "32eff80f",
   "metadata": {},
   "outputs": [],
   "source": [
    "y=x*7"
   ]
  },
  {
   "cell_type": "code",
   "execution_count": 8,
   "id": "653d4a1f",
   "metadata": {},
   "outputs": [
    {
     "name": "stdout",
     "output_type": "stream",
     "text": [
      "42\n"
     ]
    }
   ],
   "source": [
    "print (y)\n"
   ]
  },
  {
   "cell_type": "markdown",
   "id": "1e74d9b1",
   "metadata": {},
   "source": [
    "<img src='interprete_python.jpg'>"
   ]
  },
  {
   "cell_type": "markdown",
   "id": "a3e5c079",
   "metadata": {},
   "source": [
    "# i blocchi per costruire i programmi"
   ]
  },
  {
   "cell_type": "markdown",
   "id": "3472f8c5",
   "metadata": {},
   "source": [
    "<img src='blocchi.jpg'>"
   ]
  },
  {
   "cell_type": "markdown",
   "id": "06005fb3",
   "metadata": {},
   "source": [
    "# valori e tipi"
   ]
  },
  {
   "cell_type": "markdown",
   "id": "d70e333b",
   "metadata": {},
   "source": [
    "Un valore, come una lettera o un numero, si è presentato finora con 'Hello World!', 6 e 7.\n",
    "Il tipo di 'Hello World!' è il tipo stringa mentre quello di 6 e 7 è int.\n",
    "Possiamo accertarcene con la parola riservata type seguita da ()"
   ]
  },
  {
   "cell_type": "code",
   "execution_count": 6,
   "id": "dbac61b3",
   "metadata": {},
   "outputs": [
    {
     "data": {
      "text/plain": [
       "str"
      ]
     },
     "execution_count": 6,
     "metadata": {},
     "output_type": "execute_result"
    }
   ],
   "source": [
    "type('Hello World!')"
   ]
  },
  {
   "cell_type": "code",
   "execution_count": 7,
   "id": "75b98c6f",
   "metadata": {},
   "outputs": [
    {
     "data": {
      "text/plain": [
       "int"
      ]
     },
     "execution_count": 7,
     "metadata": {},
     "output_type": "execute_result"
    }
   ],
   "source": [
    "type(6)"
   ]
  },
  {
   "cell_type": "markdown",
   "id": "e31e7af2",
   "metadata": {},
   "source": [
    "I numeri con un punto decimale, invece, come 3.2 sono di tipo float.\n",
    "Ciò è dovuto al fatto che questi numeri \n",
    "sono rappresentati in un formato chiamato ' a virgola mobile'"
   ]
  },
  {
   "cell_type": "code",
   "execution_count": 8,
   "id": "03b4f69d",
   "metadata": {},
   "outputs": [
    {
     "data": {
      "text/plain": [
       "float"
      ]
     },
     "execution_count": 8,
     "metadata": {},
     "output_type": "execute_result"
    }
   ],
   "source": [
    "type(3.2)"
   ]
  },
  {
   "cell_type": "markdown",
   "id": "5354855a",
   "metadata": {},
   "source": [
    "# variabili e assegnamenti"
   ]
  },
  {
   "cell_type": "markdown",
   "id": "5688ed06",
   "metadata": {},
   "source": [
    "Una variabile è un nome assegnato ad un valore. Tramite\n",
    "un’istruzione di assegnazione hai la capacità di creare nuove variabili ed assegnare\n",
    "loro un valore.\n",
    "Nell'esempio sottostante vengono fatte due assegnazioni: la prima assegna una stringa ad\n",
    "una nuova variabile chiamata message, la seconda assegna il numero intero 17 alla\n",
    "variabile n.\n",
    "È possibile usare l’istruzione print per visualizzare il valore di una variabile"
   ]
  },
  {
   "cell_type": "code",
   "execution_count": 9,
   "id": "836d87eb",
   "metadata": {},
   "outputs": [],
   "source": [
    "message = 'And now for something completely different'"
   ]
  },
  {
   "cell_type": "code",
   "execution_count": 10,
   "id": "f3e853be",
   "metadata": {},
   "outputs": [],
   "source": [
    "n = 17"
   ]
  },
  {
   "cell_type": "code",
   "execution_count": 11,
   "id": "4929676f",
   "metadata": {},
   "outputs": [
    {
     "name": "stdout",
     "output_type": "stream",
     "text": [
      "17\n"
     ]
    }
   ],
   "source": [
    "print (n)"
   ]
  },
  {
   "cell_type": "markdown",
   "id": "4c6fd4b4",
   "metadata": {},
   "source": [
    "Normalmente i programmatori scelgono nomi per le loro variabili che siano significativi\n",
    "e documentino l’utilizzo della variabile. Questi nomi, di lunghezza arbitraria,\n",
    "possono contenere sia lettere sia numeri ma non possono iniziare con un numero.\n",
    "Anche se è possibile utilizzare lettere maiuscole, è preferibile iniziare i nomi delle\n",
    "variabili con una lettera minuscola (in seguito ne vedremo il motivo). Il carattere\n",
    "underscore (_) appare nel nome di una variabile ed è spesso utilizzato in nomi\n",
    "composti da più parole, come my_name o airspeed_of_unladen_swallow. I nomi\n",
    "delle variabili possono iniziare con il carattere underscore, ma generalmente evitiamo\n",
    "di farlo a meno che il codice che stiamo scrivendo sia contenuto in librerie\n",
    "che verranno utilizzate da altri. Se assegni ad una variabile un nome non valido,\n",
    "provocherai un errore di sintassi"
   ]
  },
  {
   "cell_type": "markdown",
   "id": "ec11f352",
   "metadata": {},
   "source": [
    "Python si riserva 33 parole chiave:\n",
    "and \n",
    "del\n",
    "from\n",
    "None \n",
    "True\n",
    "as\n",
    "elif\n",
    "global\n",
    "nonlocal\n",
    "try\n",
    "assert\n",
    "else\n",
    "if\n",
    "not\n",
    "while\n",
    "break\n",
    "except\n",
    "import\n",
    "or\n",
    "with\n",
    "class\n",
    "False\n",
    "in\n",
    "pass\n",
    "yield\n",
    "continue\n",
    "finally\n",
    "is\n",
    "raise\n",
    "def\n",
    "for\n",
    "lambda\n",
    "return\n",
    "\n",
    "E’ meglio tenere questo elenco a portata di mano: se l’interprete si lamenta del\n",
    "nome di una delle tue variabili e non ne capisci il motivo, verifica se questa sia\n",
    "presente nella lista"
   ]
  },
  {
   "cell_type": "markdown",
   "id": "624dcd7f",
   "metadata": {},
   "source": [
    "# istruzioni"
   ]
  },
  {
   "cell_type": "markdown",
   "id": "ab4e5434",
   "metadata": {},
   "source": [
    "L’istruzione è un’unità minima di codice che può essere eseguita dall’interprete di\n",
    "Python. Abbiamo visto due tipi di istruzioni: Print e  un’assegnazione. Quando digiti un’istruzione in modalità\n",
    "interattiva, l’interprete la esegue e, nel caso esista, ne visualizza il risultato.\n",
    "Generalmente uno script contiene una sequenza di istruzioni. Se c’è più di un’istruzione\n",
    "i risultati vengono visualizzati uno alla volta mano a mano che le istruzioni\n",
    "vengono eseguite. Ad esempio:"
   ]
  },
  {
   "cell_type": "code",
   "execution_count": 12,
   "id": "394e0ecb",
   "metadata": {},
   "outputs": [
    {
     "name": "stdout",
     "output_type": "stream",
     "text": [
      "1\n",
      "2\n"
     ]
    }
   ],
   "source": [
    "print(1)\n",
    "x = 2\n",
    "print(x)"
   ]
  },
  {
   "cell_type": "markdown",
   "id": "ed196e06",
   "metadata": {},
   "source": [
    "Ricorda che le istruzioni di assegnazione non producono output."
   ]
  },
  {
   "cell_type": "markdown",
   "id": "c20b70a1",
   "metadata": {},
   "source": [
    "# operatori e operandi"
   ]
  },
  {
   "cell_type": "markdown",
   "id": "975a9c89",
   "metadata": {},
   "source": [
    "Gli operatori sono simboli speciali che rappresentano calcoli come l’addizione e\n",
    "la moltiplicazione. I valori a cui è applicato l’operatore sono chiamati operandi.\n",
    "Gli operatori +, -,\n",
    "**,\n",
    "/, e due volte **\n",
    "\n",
    "eseguono rispettivamente le operazioni di addizione,\n",
    "sottrazione, moltiplicazione, divisione, ed elevamento a potenza,"
   ]
  },
  {
   "cell_type": "code",
   "execution_count": 13,
   "id": "50f3cb0c",
   "metadata": {},
   "outputs": [
    {
     "data": {
      "text/plain": [
       "52"
      ]
     },
     "execution_count": 13,
     "metadata": {},
     "output_type": "execute_result"
    }
   ],
   "source": [
    "20+32 "
   ]
  },
  {
   "cell_type": "code",
   "execution_count": 14,
   "id": "dc5691c9",
   "metadata": {},
   "outputs": [
    {
     "data": {
      "text/plain": [
       "1"
      ]
     },
     "execution_count": 14,
     "metadata": {},
     "output_type": "execute_result"
    }
   ],
   "source": [
    "6-5"
   ]
  },
  {
   "cell_type": "code",
   "execution_count": 15,
   "id": "d7e5c14f",
   "metadata": {},
   "outputs": [
    {
     "data": {
      "text/plain": [
       "20"
      ]
     },
     "execution_count": 15,
     "metadata": {},
     "output_type": "execute_result"
    }
   ],
   "source": [
    "10*2"
   ]
  },
  {
   "cell_type": "code",
   "execution_count": 16,
   "id": "21479150",
   "metadata": {},
   "outputs": [
    {
     "data": {
      "text/plain": [
       "25.0"
      ]
     },
     "execution_count": 16,
     "metadata": {},
     "output_type": "execute_result"
    }
   ],
   "source": [
    "100/4"
   ]
  },
  {
   "cell_type": "code",
   "execution_count": 17,
   "id": "3c6adbeb",
   "metadata": {},
   "outputs": [
    {
     "data": {
      "text/plain": [
       "25"
      ]
     },
     "execution_count": 17,
     "metadata": {},
     "output_type": "execute_result"
    }
   ],
   "source": [
    " 5**2 "
   ]
  },
  {
   "cell_type": "code",
   "execution_count": 17,
   "id": "2ca4f806",
   "metadata": {},
   "outputs": [
    {
     "data": {
      "text/plain": [
       "112"
      ]
     },
     "execution_count": 17,
     "metadata": {},
     "output_type": "execute_result"
    }
   ],
   "source": [
    "(5+9)*(15-7)"
   ]
  },
  {
   "cell_type": "markdown",
   "id": "41a399d3",
   "metadata": {},
   "source": [
    "In Python 3.x la divisione integer funziona molto più similmente a come ci si\n",
    "aspetterebbe se si inserisse l’espressione su una calcolatrice."
   ]
  },
  {
   "cell_type": "code",
   "execution_count": 18,
   "id": "89d388ba",
   "metadata": {},
   "outputs": [
    {
     "data": {
      "text/plain": [
       "33"
      ]
     },
     "execution_count": 18,
     "metadata": {},
     "output_type": "execute_result"
    }
   ],
   "source": [
    "100//3"
   ]
  },
  {
   "cell_type": "markdown",
   "id": "d5dbf870",
   "metadata": {},
   "source": [
    "# espressioni"
   ]
  },
  {
   "cell_type": "markdown",
   "id": "74cbf9ef",
   "metadata": {},
   "source": [
    "L’espressione è una combinazione di valori, variabili e operatori. Anche un unico\n",
    "valore o una variabile sono considerati un’espressione. Pertanto le seguenti sono\n",
    "tutte espressioni corrette (posto che sia stato assegnato un valore alla variabile x)\n",
    "\n"
   ]
  },
  {
   "cell_type": "code",
   "execution_count": 19,
   "id": "3a6ffb41",
   "metadata": {},
   "outputs": [
    {
     "data": {
      "text/plain": [
       "19"
      ]
     },
     "execution_count": 19,
     "metadata": {},
     "output_type": "execute_result"
    }
   ],
   "source": [
    "x+17"
   ]
  },
  {
   "cell_type": "code",
   "execution_count": 20,
   "id": "5b7cae3c",
   "metadata": {},
   "outputs": [
    {
     "data": {
      "text/plain": [
       "2"
      ]
     },
     "execution_count": 20,
     "metadata": {},
     "output_type": "execute_result"
    }
   ],
   "source": [
    "x"
   ]
  },
  {
   "cell_type": "code",
   "execution_count": 21,
   "id": "8ae55246",
   "metadata": {},
   "outputs": [
    {
     "data": {
      "text/plain": [
       "17"
      ]
     },
     "execution_count": 21,
     "metadata": {},
     "output_type": "execute_result"
    }
   ],
   "source": [
    "17"
   ]
  },
  {
   "cell_type": "markdown",
   "id": "837ca8ff",
   "metadata": {},
   "source": [
    "# ordine di esecuzione"
   ]
  },
  {
   "cell_type": "markdown",
   "id": "949d93c5",
   "metadata": {},
   "source": [
    "<img src='precedenze.jpg'>"
   ]
  },
  {
   "cell_type": "markdown",
   "id": "3d3d0d91",
   "metadata": {},
   "source": [
    "# operatore modulo"
   ]
  },
  {
   "cell_type": "markdown",
   "id": "ca6113a8",
   "metadata": {},
   "source": [
    "<img src='modulo.jpg'>"
   ]
  },
  {
   "cell_type": "markdown",
   "id": "360ce6d6",
   "metadata": {},
   "source": [
    "# Operazioni con le stringhe"
   ]
  },
  {
   "cell_type": "markdown",
   "id": "7336b716",
   "metadata": {},
   "source": [
    "<img src='stringhe.jpg'>"
   ]
  },
  {
   "cell_type": "markdown",
   "id": "92a220b8",
   "metadata": {},
   "source": [
    "# Chiedere un valore in input all’utente"
   ]
  },
  {
   "cell_type": "markdown",
   "id": "68387db8",
   "metadata": {},
   "source": [
    "A volte potrebbe essere necessario richiedere all’utente di inserire il valore di una variabile.\n",
    "Python è dotato di una funzione chiamata input in grado di ricevere input dalla tastiera.\n",
    "Quando si utilizza questa funzione il programma si arresta in attesa che l’utente digiti qualcosa. \n",
    "Quando l’utente preme Invio o Enter, l’esecuzione del programma riprende e input restituisce come stringa ciò che l’utente\n",
    "ha digitato"
   ]
  },
  {
   "cell_type": "code",
   "execution_count": 9,
   "id": "93dd0056",
   "metadata": {},
   "outputs": [
    {
     "name": "stdout",
     "output_type": "stream",
     "text": [
      "1\n"
     ]
    }
   ],
   "source": [
    "inp = input()"
   ]
  },
  {
   "cell_type": "code",
   "execution_count": 10,
   "id": "9cc1e2de",
   "metadata": {},
   "outputs": [
    {
     "name": "stdout",
     "output_type": "stream",
     "text": [
      "1\n"
     ]
    }
   ],
   "source": [
    "print(inp)"
   ]
  },
  {
   "cell_type": "markdown",
   "id": "7893e37d",
   "metadata": {},
   "source": [
    "Prima di ricevere input dall’utente, è solitamente una buona idea visualizzare un prompt che informi l’utente sul cosa inserire.\n",
    "È possibile indicare una stringa alla funzione input affinché venga visualizzata prima della pausa d’attesa dell’input"
   ]
  },
  {
   "cell_type": "code",
   "execution_count": 13,
   "id": "f2f066d5",
   "metadata": {},
   "outputs": [
    {
     "name": "stdout",
     "output_type": "stream",
     "text": [
      "base 10\n"
     ]
    }
   ],
   "source": [
    "base=int(input('base '))"
   ]
  },
  {
   "cell_type": "code",
   "execution_count": 14,
   "id": "8a53877f",
   "metadata": {},
   "outputs": [
    {
     "name": "stdout",
     "output_type": "stream",
     "text": [
      "20\n"
     ]
    }
   ],
   "source": [
    "print (base+10)"
   ]
  },
  {
   "cell_type": "markdown",
   "id": "e270ee17",
   "metadata": {},
   "source": [
    "La sequenza \\n alla fine del prompt indica un andare a capo ed è un carattere speciale che causa l’interruzione della linea. Ecco perché l’input dell’utente appare sotto il prompt. Se ti aspetti che l’utente digiti un intero, è possibile provare a\n",
    "convertire il valore restituito in int usando la funzione int()."
   ]
  },
  {
   "cell_type": "code",
   "execution_count": 15,
   "id": "e264f1ff",
   "metadata": {},
   "outputs": [],
   "source": [
    "prompt = 'What...is the  velocity of an swallow?\\n'"
   ]
  },
  {
   "cell_type": "code",
   "execution_count": 16,
   "id": "e1a2b50b",
   "metadata": {},
   "outputs": [
    {
     "name": "stdout",
     "output_type": "stream",
     "text": [
      "What...is the  velocity of an swallow?\n",
      "10\n"
     ]
    }
   ],
   "source": [
    "speed = input(prompt)"
   ]
  },
  {
   "cell_type": "code",
   "execution_count": 17,
   "id": "f122e600",
   "metadata": {},
   "outputs": [
    {
     "data": {
      "text/plain": [
       "10"
      ]
     },
     "execution_count": 17,
     "metadata": {},
     "output_type": "execute_result"
    }
   ],
   "source": [
    "int(speed)\n"
   ]
  },
  {
   "cell_type": "code",
   "execution_count": 18,
   "id": "8feb60bf",
   "metadata": {},
   "outputs": [
    {
     "data": {
      "text/plain": [
       "15"
      ]
     },
     "execution_count": 18,
     "metadata": {},
     "output_type": "execute_result"
    }
   ],
   "source": [
    "int(speed) + 5"
   ]
  },
  {
   "cell_type": "markdown",
   "id": "9fbd2ff7",
   "metadata": {},
   "source": [
    "se l’utente inserisce qualcosa di diverso da una stringa composta da cifre, viene\n",
    "visualizzato un messaggio d’errore"
   ]
  },
  {
   "cell_type": "markdown",
   "id": "fc324a13",
   "metadata": {},
   "source": [
    "# commenti"
   ]
  },
  {
   "cell_type": "markdown",
   "id": "c95bef8d",
   "metadata": {},
   "source": [
    "<img src='commenti.jpg'>\n"
   ]
  },
  {
   "cell_type": "markdown",
   "id": "6ef7c64d",
   "metadata": {},
   "source": [
    "# debug"
   ]
  },
  {
   "cell_type": "markdown",
   "id": "2d906141",
   "metadata": {},
   "source": [
    "A questo punto, l’errore di sintassi più probabile che tu possa fare è scegliere un nome di variabile non consentito, come class e yield, che sono parole chiave, o odd~job eUS$, che contengono caratteri non consentiti. Se inserisci uno spazio nel\n",
    "nome di variabile, Python riterrà che si tratti di due operandi senza un operatore.\n",
    "Per quanto riguarda gli errori di sintassi, bisogna dire che i messaggi di errore non sono di grande aiuto. I messaggi più comuni, SyntaxError: invalid syntax e SyntaxError: invalid token, sono entrambi poco esplicativi. L’errore di runtime\n",
    "più comune è “use before def;”: cioè l’utilizzo di una variabile prima di averle assegnato un valore. Questo può verificarsi se viene scritta una variabile in modo errato.\n",
    "I nomi delle variabili sono case-sensitive: LaTeX non è lo stesso di latex. "
   ]
  },
  {
   "cell_type": "markdown",
   "id": "33d9e31d",
   "metadata": {},
   "source": [
    "# espressioni booleane"
   ]
  },
  {
   "cell_type": "markdown",
   "id": "5763fb35",
   "metadata": {},
   "source": [
    "Un’espressione booleana è un’espressione che può assumere solo i valori vero o falso.\n",
    "True e False non sono considerati stringhe ma sono valori speciali appartenenti\n",
    "al tipo bool\n",
    "L’operatore == è uno degli operatori di comparazione; gli altri sono:\n",
    "\n",
    "x != y # x is not equal to y\n",
    "\n",
    "x > y # x is greater than y\n",
    "\n",
    "x < y # x is less than y\n",
    "\n",
    "x >= y # x is greater than or equal to y\n",
    "\n",
    "x <= y # x is less than or equal to y\n",
    "\n",
    "Anche se queste operazioni ti saranno probabilmente familiari, i simboli utilizzati\n",
    "da Python sono diversi da quelli matematici. Un errore comune è l’utilizzare un\n",
    "singolo segno di uguale (=) al posto di un doppio segno di uguale (==): Ricorda\n",
    "che = assegna un valore mentre == compara due valori. "
   ]
  },
  {
   "cell_type": "markdown",
   "id": "14579fe5",
   "metadata": {},
   "source": [
    "# operatori logici"
   ]
  },
  {
   "cell_type": "markdown",
   "id": "96dbab4b",
   "metadata": {},
   "source": [
    "Esistono tre operatori logici: and, or e not. La semantica (significato) di questi operatori è simile al loro significato nella lingua inglese. Ad esempio: \n",
    "x> 0 and x <10\n",
    "è TRUE solo se x è maggiore di 0 e minore di 10.\n",
    "\n",
    "n%2 == 0 or n%3 == 0 è TRUE se si verifica una delle condizioni: cioè se il numero è divisibile per 2 o 3.\n",
    "Infine, l’operatore not nega un’espressione booleana, quindi not (x > y) è true se x > y è false; cioè, se x è minore o uguale a y.\n",
    "\n",
    "In pratica, gli operandi degli operatori logici dovrebbero essere espressioni booleane,anche Python non è molto rigoroso in merito.\n",
    "Qualsiasi numero diverso da zero viene interpretato come “true”"
   ]
  },
  {
   "cell_type": "markdown",
   "id": "72ebea8c",
   "metadata": {},
   "source": [
    "# espressione condizionale"
   ]
  },
  {
   "cell_type": "markdown",
   "id": "f70d8aaa",
   "metadata": {},
   "source": [
    "Per scrivere programmi utili, abbiamo quasi sempre bisogno di verificare le condizioni e modificare di conseguenza il comportamento del programma.\n",
    "Le istruzioni condizionali ci danno questa capacità. La forma più semplice è l’istruzione if:"
   ]
  },
  {
   "cell_type": "code",
   "execution_count": 19,
   "id": "b749436e",
   "metadata": {},
   "outputs": [
    {
     "name": "stdout",
     "output_type": "stream",
     "text": [
      "x is positive\n",
      "ok\n"
     ]
    }
   ],
   "source": [
    "x=2\n",
    "if x > 0 :\n",
    "    print('x is positive')\n",
    "print ('ok')    "
   ]
  },
  {
   "cell_type": "markdown",
   "id": "eae3460c",
   "metadata": {},
   "source": [
    "L’espressione booleana dopo l’istruzione if è chiamata condizione. \n",
    "Al termine dell’istruzione if va posto il carattere due punti (:), la linea/linee di codice seguenti devono essere indentate (rientrate)."
   ]
  },
  {
   "cell_type": "markdown",
   "id": "6910a82b",
   "metadata": {},
   "source": [
    "Se la condizione logica è vera verrà eseguita l’istruzione indentata. \n",
    "Se la condizione logica è falsa, questa verrà saltata.\n",
    "Le istruzioni if hanno la stessa struttura delle definizioni di funzione o dei cicli for.\n",
    "L’istruzione è composta da una riga di intestazione che termina con i due punti (:) seguita da un blocco indentato.\n",
    "Istruzioni come questa sono definite composte perché si estendono su più righe. \n",
    "Pur non essendoci alcun limite al numero di istruzioni che possono apparire nel blocco, deve esserne presente almeno\n",
    "una.\n",
    "Ad esempio, è utile avere un blocco senza istruzioni (sempre come segnaposto per codice non ancora scritto).\n",
    "In tal caso, puoi usare l’istruzione pass, che non produce alcun effetto."
   ]
  },
  {
   "cell_type": "markdown",
   "id": "02ce52fe",
   "metadata": {},
   "source": [
    "# esecuzione alternativa"
   ]
  },
  {
   "cell_type": "markdown",
   "id": "1a5d04f2",
   "metadata": {},
   "source": [
    "Una seconda forma dell’istruzione if è l’esecuzione alternativa in cui sono state previste due possibilità e la condizione determina quale debba essere eseguita. La sintassi ha questo aspetto:"
   ]
  },
  {
   "cell_type": "code",
   "execution_count": 31,
   "id": "39d634f0",
   "metadata": {},
   "outputs": [
    {
     "name": "stdout",
     "output_type": "stream",
     "text": [
      "x is even\n"
     ]
    }
   ],
   "source": [
    "if x%2 == 0 :\n",
    "    print('x is even')\n",
    "else :\n",
    "    print('x is odd')"
   ]
  },
  {
   "cell_type": "markdown",
   "id": "ba66f0a7",
   "metadata": {},
   "source": [
    "# istruzioni concatenate"
   ]
  },
  {
   "cell_type": "markdown",
   "id": "0e9bae35",
   "metadata": {},
   "source": [
    "A volte è necessario prevedere più di due possibilità e di conseguenza occorre inserire più di due branche. Un modo per esprimere un simile calcolo è utilizzare le condizioni concatenate:"
   ]
  },
  {
   "cell_type": "code",
   "execution_count": 32,
   "id": "ecd1e864",
   "metadata": {},
   "outputs": [
    {
     "name": "stdout",
     "output_type": "stream",
     "text": [
      "x is greater than y\n"
     ]
    }
   ],
   "source": [
    "y=1\n",
    "if x < y:\n",
    "    print('x is less than y')\n",
    "elif x > y:\n",
    "    print('x is greater than y')\n",
    "else:\n",
    "    print('x and y are equal')"
   ]
  },
  {
   "cell_type": "markdown",
   "id": "c6ecd1d6",
   "metadata": {},
   "source": [
    "elif è l’abbreviazione di “else if”.\n",
    "Anche stavolta verrà eseguito un solo ramo.\n",
    "Non c’è limite al numero di istruzioni elif. Possono essere utilizzate svariate condizioni else, purché siano inserite alla fine."
   ]
  },
  {
   "cell_type": "markdown",
   "id": "beb7bf36",
   "metadata": {},
   "source": [
    "Ogni condizione viene controllata in ordine. Se la prima condizione è falsa, verrà controllata la successiva e così via. Se una tra queste condizioni risulta vera, verrà eseguito il branch corrispondente e l’istruzione sarà terminata. Anche se più di\n",
    "una condizione è vera, verrà eseguito solo il primo branch vero."
   ]
  },
  {
   "cell_type": "markdown",
   "id": "63daeeae",
   "metadata": {},
   "source": [
    "# chiamate di funzioni"
   ]
  },
  {
   "cell_type": "markdown",
   "id": "f05bbbde",
   "metadata": {},
   "source": [
    "Quando si parla di programmazione, per funzione intendiamo una sequenza specifica di istruzioni a cui è stato attribuito un nome, che ha lo scopo di eseguire un’operazione o calcolo particolare. Una volta definita, è possibile “chiamare” una\n",
    "funzione per mezzo del suo nome.\n",
    "In precedenza abbiamo già visto un esempio di una chiamata di funzione:"
   ]
  },
  {
   "cell_type": "code",
   "execution_count": 33,
   "id": "d48aa22b",
   "metadata": {},
   "outputs": [
    {
     "data": {
      "text/plain": [
       "int"
      ]
     },
     "execution_count": 33,
     "metadata": {},
     "output_type": "execute_result"
    }
   ],
   "source": [
    "type(32)"
   ]
  },
  {
   "cell_type": "markdown",
   "id": "3dc28cfd",
   "metadata": {},
   "source": [
    "in questo esempio il nome della funzione è type mentre il numero 32 tra parentesi è l’argomento della funzione. L’argomento può essere un valore o una variabile che stiamo passando alla funzione come input.\n",
    "Nel gergo informatico si dice che una funzione “accetta” un argomento e “restituisce” un valore di ritorno."
   ]
  },
  {
   "cell_type": "markdown",
   "id": "fda6d074",
   "metadata": {},
   "source": [
    "# funzioni integrate"
   ]
  },
  {
   "cell_type": "markdown",
   "id": "8d904a3e",
   "metadata": {},
   "source": [
    "In Python sono integrate un gran numero di funzioni utili, create per svolgere le attività più comuni, che possiamo usare senza doverle definire. Ad esempio le funzioni max e min ci forniscono rispettivamente i valori più grandi e più piccoli di\n",
    "un elenco:"
   ]
  },
  {
   "cell_type": "code",
   "execution_count": 34,
   "id": "edd48f21",
   "metadata": {},
   "outputs": [
    {
     "data": {
      "text/plain": [
       "'w'"
      ]
     },
     "execution_count": 34,
     "metadata": {},
     "output_type": "execute_result"
    }
   ],
   "source": [
    "max('Hello world')"
   ]
  },
  {
   "cell_type": "markdown",
   "id": "e7426fa9",
   "metadata": {},
   "source": [
    "La funzione max ci indica che il “carattere più grande” nella stringa é la lettera “w” mentre min ci mostra che il carattere più piccolo é lo spazio. Un’altra funzione molto utilizzata è la funzione len che ci dice quanti oggetti ci sono nell’argomento\n",
    "analizzato. Nell’esempio seguente l’argomento di len è una stringa e perciò viene restituito il numero di caratteri nella stringa."
   ]
  },
  {
   "cell_type": "code",
   "execution_count": 35,
   "id": "85704ae2",
   "metadata": {},
   "outputs": [
    {
     "data": {
      "text/plain": [
       "11"
      ]
     },
     "execution_count": 35,
     "metadata": {},
     "output_type": "execute_result"
    }
   ],
   "source": [
    "len('Hello world')"
   ]
  },
  {
   "cell_type": "markdown",
   "id": "667cd98a",
   "metadata": {},
   "source": [
    "Come vedremo nei prossimi capitoli queste funzioni non sono progettate per operare solo con le stringhe ma possono essere applicate su un qualsiasi insieme di valori.\n",
    "Voglio ricordarti che anche i nome di funzioni vanno trattati come parole riservate (ad esempio, evita di utilizzare “max” come nome di variabile)."
   ]
  },
  {
   "cell_type": "markdown",
   "id": "4851f328",
   "metadata": {},
   "source": [
    "# funzioni di conversione dei tipi di dato"
   ]
  },
  {
   "cell_type": "markdown",
   "id": "1faac1f8",
   "metadata": {},
   "source": [
    "Altre funzioni integrate in Python ti permettono di convertire i valori da un tipo ad un altro: ad esempio la funzione int accetta qualsiasi valore e, qualora sia possibile, lo converte in un numero intero. In caso contrario si “lamenta” visualizzando un messaggio d’errore:"
   ]
  },
  {
   "cell_type": "code",
   "execution_count": 36,
   "id": "6afc6942",
   "metadata": {},
   "outputs": [
    {
     "data": {
      "text/plain": [
       "32"
      ]
     },
     "execution_count": 36,
     "metadata": {},
     "output_type": "execute_result"
    }
   ],
   "source": [
    "int('32')\n"
   ]
  },
  {
   "cell_type": "code",
   "execution_count": 37,
   "id": "2c6aa90b",
   "metadata": {},
   "outputs": [
    {
     "ename": "ValueError",
     "evalue": "invalid literal for int() with base 10: 'Hello'",
     "output_type": "error",
     "traceback": [
      "\u001b[1;31m---------------------------------------------------------------------------\u001b[0m",
      "\u001b[1;31mValueError\u001b[0m                                Traceback (most recent call last)",
      "\u001b[1;32m<ipython-input-37-6765ce49acfe>\u001b[0m in \u001b[0;36m<module>\u001b[1;34m\u001b[0m\n\u001b[1;32m----> 1\u001b[1;33m \u001b[0mint\u001b[0m\u001b[1;33m(\u001b[0m\u001b[1;34m'Hello'\u001b[0m\u001b[1;33m)\u001b[0m\u001b[1;33m\u001b[0m\u001b[1;33m\u001b[0m\u001b[0m\n\u001b[0m",
      "\u001b[1;31mValueError\u001b[0m: invalid literal for int() with base 10: 'Hello'"
     ]
    }
   ],
   "source": [
    "int('Hello')"
   ]
  },
  {
   "cell_type": "markdown",
   "id": "a8d32481",
   "metadata": {},
   "source": [
    "# numeri casuali"
   ]
  },
  {
   "cell_type": "markdown",
   "id": "89eaaffc",
   "metadata": {},
   "source": [
    "Dato il medesimo input, la maggior parte dei programmi per computer genera sempre lo stesso output. Per tale motivo vengono detti deterministici. Il determinismo di solito è una cosa auspicabile poiché ci aspettiamo che lo stesso calcolo produca\n",
    "sempre lo medesimo risultato. Ci sono casi in cui, tuttavia, desideriamo che il computer sia imprevedibile come accade ad esempio nei giochi.\n",
    "Realizzare un programma veramente non deterministico non é così semplice come potrebbe sembrare a prima vista anche se esistono modi per farlo almeno sembrare tale. Uno di questi è usare algoritmi che generano numeri pseudo-casuali. I numeri\n",
    "pseudo-casuali non sono veramente casuali perché sono generati da un calcolo deterministico,ma osservando solo i numeri è quasi impossibile distinguerli da quelli casuali.\n",
    "Il modulo random fornisce funzioni che generano numeri pseudo-casuali (che chiameremo semplicemente “casuali” da qui in poi).\n",
    "La funzione random restituisce un numero decimale casuale compreso tra 0.0 e 1.0 (comprendendo 0.0 ma non 1.0). Ogni volta che evochi random, ottieni il numero successivo di una lunga serie. Prova a far girare questo ciclo:"
   ]
  },
  {
   "cell_type": "code",
   "execution_count": 20,
   "id": "dd3b23da",
   "metadata": {},
   "outputs": [],
   "source": [
    "import random\n"
   ]
  },
  {
   "cell_type": "code",
   "execution_count": 39,
   "id": "09f0a35b",
   "metadata": {},
   "outputs": [
    {
     "name": "stdout",
     "output_type": "stream",
     "text": [
      "0.8282773652606914\n",
      "0.45088590104130954\n",
      "0.787519553594628\n",
      "0.4390127647294658\n",
      "0.04592286007841184\n",
      "0.4567216529151843\n",
      "0.9413956295222463\n",
      "0.21019456769585865\n",
      "0.24094194021703585\n",
      "0.0660989418732495\n"
     ]
    }
   ],
   "source": [
    "for i in range(10):\n",
    "    x = random.random()\n",
    "    print(x)"
   ]
  },
  {
   "cell_type": "markdown",
   "id": "8a20a337",
   "metadata": {},
   "source": [
    "La funzione random è solo una delle molte funzioni che gestiscono i numeri casuali. randint accetta i parametri low e high e restituisce un intero compreso tra i due (inclusi) estremi."
   ]
  },
  {
   "cell_type": "code",
   "execution_count": 21,
   "id": "87178e3e",
   "metadata": {},
   "outputs": [
    {
     "data": {
      "text/plain": [
       "5"
      ]
     },
     "execution_count": 21,
     "metadata": {},
     "output_type": "execute_result"
    }
   ],
   "source": [
    "random.randint(5, 10)\n"
   ]
  },
  {
   "cell_type": "markdown",
   "id": "0dad4151",
   "metadata": {},
   "source": [
    "Tramite choice puoi scegliere un elemento da una sequenza casuale:"
   ]
  },
  {
   "cell_type": "code",
   "execution_count": 22,
   "id": "28a3cd59",
   "metadata": {},
   "outputs": [
    {
     "data": {
      "text/plain": [
       "1"
      ]
     },
     "execution_count": 22,
     "metadata": {},
     "output_type": "execute_result"
    }
   ],
   "source": [
    "t = [1, 2, 3]\n",
    "random.choice(t)"
   ]
  },
  {
   "cell_type": "markdown",
   "id": "d87ab8cd",
   "metadata": {},
   "source": [
    "# aggiungere nuove funzioni"
   ]
  },
  {
   "cell_type": "markdown",
   "id": "0951fcb8",
   "metadata": {},
   "source": [
    "Anche se finora abbiamo solo usato le funzioni già presenti in Python, tieni a mente che è possibile aggiungerne di nuove. Tramite la definizione di funzione puoi specificare il nome di una nuova funzione composta da una sequenza di istruzioni.\n",
    "Una volta definita, puoi richiamarla e riutilizzarla a piacimento all’interno del tuo programma.\n",
    "Ecco un esempio:"
   ]
  },
  {
   "cell_type": "code",
   "execution_count": 23,
   "id": "2af9a2b0",
   "metadata": {},
   "outputs": [],
   "source": [
    "def print_lyrics():\n",
    "    print(\"Se la mamma ti comanda\")\n",
    "    print('corri presto, mia fanciulla...')"
   ]
  },
  {
   "cell_type": "code",
   "execution_count": 24,
   "id": "1db2e445",
   "metadata": {},
   "outputs": [
    {
     "name": "stdout",
     "output_type": "stream",
     "text": [
      "Se la mamma ti comanda\n",
      "corri presto, mia fanciulla...\n"
     ]
    }
   ],
   "source": [
    "print_lyrics()"
   ]
  },
  {
   "cell_type": "markdown",
   "id": "5510b6ca",
   "metadata": {},
   "source": [
    "def è la parola chiave che indica che il nome di questa funzione è print_lyrics.\n",
    "Fai attenzione che per i nomi delle funzioni valgono le stesse regole in vigore per i nomi delle variabili: sono consentiti lettere, numeri e alcuni segni di punteggiatura ma il primo carattere non può mai essere un numero. Inoltre, non puoi utilizzare una parola chiave come nome di una funzione, e evita di dare lo stesso nome ad una variabile e ad una funzione.\n",
    "Le parentesi vuote dopo il nome indicano che questa funzione non accetta argomenti.\n",
    "Nei capitoli seguenti ti insegnerò a costruire delle funzioni che ricevono degli argomenti come input.\n",
    "Una funzione è composta da un header, la prima riga della funzione, ed un corpo composto dal resto delle istruzioni. L’header deve sempre terminare con due punti e il corpo, che deve essere indentato per convenzione di quattro spazi, può contenere\n",
    "un numero qualsiasi di istruzioni."
   ]
  },
  {
   "cell_type": "markdown",
   "id": "ba653667",
   "metadata": {},
   "source": [
    "La definizione di una funzione crea una variabile con lo stesso nome."
   ]
  },
  {
   "cell_type": "code",
   "execution_count": 44,
   "id": "bb5dfc5f",
   "metadata": {},
   "outputs": [
    {
     "name": "stdout",
     "output_type": "stream",
     "text": [
      "<class 'function'>\n"
     ]
    }
   ],
   "source": [
    "print(type(print_lyrics))"
   ]
  },
  {
   "cell_type": "markdown",
   "id": "ad43a9dd",
   "metadata": {},
   "source": [
    "Il valore di print_lyrics è un oggetto funzione di tipo “funzione”.\n",
    "La sintassi per chiamare la nuova funzione è la stessa utilizzata per le funzioni integrate:"
   ]
  },
  {
   "cell_type": "markdown",
   "id": "e61e3aea",
   "metadata": {},
   "source": [
    "Una volta che avrai definito una funzione, potrai utilizzarla all’interno di un’altra funzione. Ad esempio, per ripetere il ritornello precedente, potremmo scrivere una funzione chiamata repeat_lyrics:"
   ]
  },
  {
   "cell_type": "code",
   "execution_count": 45,
   "id": "7290f97b",
   "metadata": {},
   "outputs": [],
   "source": [
    "def repeat_lyrics():\n",
    "    print_lyrics()\n",
    "    print_lyrics()"
   ]
  },
  {
   "cell_type": "code",
   "execution_count": 46,
   "id": "b5d9c7fa",
   "metadata": {},
   "outputs": [
    {
     "name": "stdout",
     "output_type": "stream",
     "text": [
      "Se la mamma ti comanda\n",
      "corri presto, mia fanciulla...\n",
      "Se la mamma ti comanda\n",
      "corri presto, mia fanciulla...\n"
     ]
    }
   ],
   "source": [
    "repeat_lyrics()\n"
   ]
  },
  {
   "cell_type": "markdown",
   "id": "1fec2df5",
   "metadata": {},
   "source": [
    "Come ormai avrai capito, è necessario creare una funzione prima di poterla eseguire.\n",
    "In altre parole, la definizione della funzione deve essere effettuata prima della prima chiamata."
   ]
  },
  {
   "cell_type": "markdown",
   "id": "28334a4f",
   "metadata": {},
   "source": [
    "Per garantire che una funzione venga definita prima del suo primo utilizzo, è necessario che tu conosca l’ordine in cui vengono eseguite le istruzioni, il così detto flusso di esecuzione.\n",
    "L’esecuzione, che inizia sempre dalla prima istruzione dello script, prevede che le istruzioni vengano eseguite una alla volta dall’alto verso il basso.\n",
    "Anche se le definizioni di funzione non alterano il flusso di esecuzione del programma, ricorda che le istruzioni contenute nella funzione non vengono eseguite fino a quando non venga chiamata la funzione.\n",
    "Potresti paragonare una chiamata di funzione ad una deviazione nel flusso di esecuzione:\n",
    "invece di passare all’istruzione successiva, il flusso salta al corpo della funzione, esegue tutte le istruzioni contenute e quindi ritorna al punto in cui si era interrotto dove riprende la normale esecuzione.\n",
    "Sembra abbastanza semplice vero? Sicuro? ti ricordi vero che una funzione può chiamarne un’altra? Il programma che stai analizzando, durante la sua esecuzione potrebbe dover eseguire le istruzioni di un’altra funzione esterna che a sua volta\n",
    "potrebbe eseguire un’altra funzione ancora!\n",
    "Fortunatamente Python è bravo a tenere traccia di dove è arrivato con l’esecuzione. Quindi ogni volta che una funzione viene completata, il programma riprende da dove era stato interrotto dalla chiamata di funzione fino a giungere alla fine del\n",
    "programma dove terminerà la sua attività.\n",
    "Qual è la morale di questa sordida storia? Quando leggi un programma non cercare di leggerlo da cima a fondo senza interruzioni ma ricorda il principio che a volte ha più senso seguire il flusso dell’esecuzione."
   ]
  },
  {
   "cell_type": "code",
   "execution_count": 29,
   "id": "d8219e69",
   "metadata": {},
   "outputs": [],
   "source": [
    "import math\n"
   ]
  },
  {
   "cell_type": "markdown",
   "id": "e01c73b2",
   "metadata": {},
   "source": [
    "# parametri e argomenti"
   ]
  },
  {
   "cell_type": "markdown",
   "id": "282a3a34",
   "metadata": {},
   "source": [
    "Alcune delle funzioni integrate che abbiamo visto richiedono degli argomenti: math.sin ad esempio ha bisogno di un numero come argomento. Altre funzioni richiedono più di un argomento: math.pow ne prende due, la base e l’esponente.\n",
    "All’interno della funzione, gli argomenti sono assegnati a variabili chiamate parametri.\n",
    "Ecco un esempio di una funzione definita dall’utente che riceve un argomento:"
   ]
  },
  {
   "cell_type": "code",
   "execution_count": 25,
   "id": "00ffbbd4",
   "metadata": {},
   "outputs": [],
   "source": [
    "def print_twice(bruce):\n",
    "  print(bruce)\n",
    "  print(bruce)"
   ]
  },
  {
   "cell_type": "markdown",
   "id": "d8d5bd65",
   "metadata": {},
   "source": [
    "Questa funzione assegna l’argomento ad un parametro chiamato bruce. Quando viene chiamata la funzione, questa stampa due volte il valore del parametro (qualunque esso sia).\n",
    "Questa funzione opera con qualsiasi valore che possa essere visualizzato"
   ]
  },
  {
   "cell_type": "code",
   "execution_count": 26,
   "id": "eb31052c",
   "metadata": {},
   "outputs": [
    {
     "name": "stdout",
     "output_type": "stream",
     "text": [
      "Spam\n",
      "Spam\n"
     ]
    }
   ],
   "source": [
    "print_twice('Spam')"
   ]
  },
  {
   "cell_type": "markdown",
   "id": "cbf9b649",
   "metadata": {},
   "source": [
    "Dato che le regole di composizione che si applicano alle funzioni integrate si applicano anche a quelle definite dall’utente, \n",
    "possiamo usare qualsiasi tipo di espressione come argomento per print_twice:"
   ]
  },
  {
   "cell_type": "code",
   "execution_count": 27,
   "id": "6c9af0b3",
   "metadata": {},
   "outputs": [
    {
     "name": "stdout",
     "output_type": "stream",
     "text": [
      "Spam Spam Spam Spam \n",
      "Spam Spam Spam Spam \n"
     ]
    }
   ],
   "source": [
    "print_twice('Spam '*4)"
   ]
  },
  {
   "cell_type": "markdown",
   "id": "b05082e2",
   "metadata": {},
   "source": [
    "L’argomento viene valutato prima che venga chiamata la funzione, quindi nell'esempio precedente l' espressione\n",
    "Spam '* 4 è valutata una sola volta.\n",
    "Potete utilizzare inoltre una variabile come argomento:"
   ]
  },
  {
   "cell_type": "code",
   "execution_count": 28,
   "id": "f79afc4f",
   "metadata": {},
   "outputs": [
    {
     "name": "stdout",
     "output_type": "stream",
     "text": [
      "Eric, the half a bee.\n",
      "Eric, the half a bee.\n"
     ]
    }
   ],
   "source": [
    "michael = 'Eric, the half a bee.'\n",
    "print_twice(michael)"
   ]
  },
  {
   "cell_type": "markdown",
   "id": "4ebf3557",
   "metadata": {},
   "source": [
    "Il nome della variabile che passiamo come argomento (michael) non ha nulla a che fare con il nome del parametro (bruce). Non importa quale sia il nome valore (nel chiamante); qui in print_twice, il parametro è usato con la parola bruce"
   ]
  },
  {
   "cell_type": "markdown",
   "id": "1118db15",
   "metadata": {},
   "source": [
    "<img src='funzioni1.jpg'>\n"
   ]
  },
  {
   "cell_type": "markdown",
   "id": "1459629c",
   "metadata": {},
   "source": [
    "<img src='funzioni2.jpg'>"
   ]
  },
  {
   "cell_type": "markdown",
   "id": "f1d42b5f",
   "metadata": {},
   "source": [
    "# iterazioni"
   ]
  },
  {
   "cell_type": "markdown",
   "id": "7df63a2a",
   "metadata": {},
   "source": [
    "<img src='iterazione1.jpg'>"
   ]
  },
  {
   "cell_type": "markdown",
   "id": "4ba9c2e9",
   "metadata": {},
   "source": [
    "# istruzione while"
   ]
  },
  {
   "cell_type": "markdown",
   "id": "7c9ecc92",
   "metadata": {},
   "source": [
    "I computer sono spesso usati per automatizzare attività ripetitive. Ripetere compiti identici o simili senza fare errori è qualcosa che i computer fanno molto meglio\n",
    "degli umani. Poiché le iterazioni sono molto comuni, Python fornisce diverse funzionalità per renderle più semplici: una di queste è l’istruzione while. Ecco un semplice programma che esegue un conto alla rovescia partendo da cinque e poi dice “Decollo!”."
   ]
  },
  {
   "cell_type": "code",
   "execution_count": 30,
   "id": "297d7685",
   "metadata": {},
   "outputs": [
    {
     "name": "stdout",
     "output_type": "stream",
     "text": [
      "5\n",
      "4\n",
      "3\n",
      "2\n",
      "1\n",
      "Decollo!\n"
     ]
    }
   ],
   "source": [
    "n = 5\n",
    "while n > 0:\n",
    "    print(n)\n",
    "    n = n - 1\n",
    "print('Decollo!')"
   ]
  },
  {
   "cell_type": "markdown",
   "id": "27323011",
   "metadata": {},
   "source": [
    "Puoi quasi leggere l’istruzione while come se fosse scritta in inglese: “Mentre n è maggiore di 0, mostra il valore di n e ad esso sottrai 1. Quando arrivi a 0, esci dall’istruzione while e visualizza la parola Decollo!”\n",
    "Più formalmente, ecco il flusso di esecuzione per un’istruzione while: \n",
    "1. Valuta la condizione, ottenendo come risultato True o False.\n",
    "2. Se la condizione è falsa, esci dall’istruzione while e prosegui con l’istruzione successiva. \n",
    "3. Se la condizione è vera, esegui il blocco e torna al passaggio 1. Questo tipo di flusso è chiamato\n",
    "loop o ciclo perché il terzo step ricomincia dall’inizio del ciclo. Ogni esecuzione del blocco incluso nel ciclo viene chiamata iterazione. Per il ciclo precedente, diremo che “aveva cinque iterazioni”, in altre parole il blocco del loop è stato eseguito\n",
    "cinque volte.\n",
    "Il blocco del ciclo dovrebbe cambiare il valore di una o più variabili in modo da far diventare infine falsa la condizione e far sì che il ciclo termini. Chiamiamo variabile di iterazione la variabile che cambia ogni volta che il ciclo viene eseguito\n",
    "e controlla quando il ciclo terminerà. Se non esiste una variabile di iterazione, il ciclo si ripeterà per sempre dando luogo ad un ciclo infinito.\n"
   ]
  },
  {
   "cell_type": "markdown",
   "id": "a78b8ed7",
   "metadata": {},
   "source": [
    "# cicli infiniti e break"
   ]
  },
  {
   "cell_type": "markdown",
   "id": "c69a5970",
   "metadata": {},
   "source": [
    "A volte non si capisce che è il momento di terminare un ciclo fino a quando non si arriva a metà del blocco. In tal caso puoi scrivere di proposito un ciclo infinito e poi usare l’istruzione break per uscire dal loop. Il ciclo seguente è ovviamente\n",
    "un ciclo infinito perché l’espressione logica nell’istruzione while è semplicemente la costante logica True:"
   ]
  },
  {
   "cell_type": "code",
   "execution_count": null,
   "id": "15d02a09",
   "metadata": {},
   "outputs": [],
   "source": [
    "n = 10\n",
    "while True:\n",
    "    print(n, end=' ')\n",
    "    n = n - 1\n",
    "    \n",
    "print('Done!')"
   ]
  },
  {
   "cell_type": "markdown",
   "id": "d4fa91b9",
   "metadata": {},
   "source": [
    "Se commetti l’errore di eseguire questo codice, imparerai rapidamente a fermare un processo Python in esecuzione sul tuo sistema o a trovare il pulsante di spegnimento sul tuo computer. Questo programma verrà eseguito per sempre o fino a quando\n",
    "la tua batteria si esaurirà perché l’espressione logica nella parte superiore del ciclo è sempre vera in virtù del fatto che l’espressione è il valore costante True. Anche se questo è un ciclo infinito disfunzionale, possiamo ancora usare questo schema\n",
    "per costruire cicli utili, a patto di aggiungere con cura del codice al blocco del ciclo per uscirne esplicitamente usando break quando abbiamo raggiunto la condizione di uscita. Ad esempio, supponiamo di voler ricevere dati dall’utente fino a quando\n",
    "non digita done. Potresti scrivere"
   ]
  },
  {
   "cell_type": "code",
   "execution_count": 53,
   "id": "68cdab27",
   "metadata": {},
   "outputs": [
    {
     "name": "stdout",
     "output_type": "stream",
     "text": [
      "> 1\n",
      "1\n",
      "> done\n",
      "Done!\n"
     ]
    }
   ],
   "source": [
    "while True:\n",
    "    line = input('> ')\n",
    "    if line == 'done':\n",
    "        break\n",
    "    print(line)\n",
    "print('Done!')\n"
   ]
  },
  {
   "cell_type": "markdown",
   "id": "3e74327e",
   "metadata": {},
   "source": [
    "La condizione del ciclo è True, che è sempre vera, quindi il ciclo viene ripetuto finché non incontra l’istruzione break. Ogni volta viene mostrato il prompt all’utente con una parentesi angolare. Se l’utente digita done, l’istruzione break interrompe il\n",
    "ciclo, Altrimenti il programma ripete a pappagallo qualsiasi cosa scriva l’utente e torna all’inizio del ciclo. Ecco un esempio di esecuzione:\n"
   ]
  },
  {
   "cell_type": "code",
   "execution_count": null,
   "id": "9e4e7ba3",
   "metadata": {},
   "outputs": [],
   "source": [
    "> hello there\n",
    "hello there\n",
    "> finished\n",
    "finished\n",
    "> done\n",
    "Done!"
   ]
  },
  {
   "cell_type": "markdown",
   "id": "0822efc6",
   "metadata": {},
   "source": [
    "Questo è un modo comune di scrivere cicli while perché è possibile controllare la condizione in qualsiasi punto del ciclo (non solo nella parte superiore) ed è possibile esprimere la condizione di arresto in modo affermativo (“fermati quando questo\n",
    "accade”) piuttosto che in modo negativo (“continua finché ciò non accadrà.”)."
   ]
  },
  {
   "cell_type": "markdown",
   "id": "a9efe186",
   "metadata": {},
   "source": [
    "# fermare l'terazione con continue"
   ]
  },
  {
   "cell_type": "markdown",
   "id": "9d823570",
   "metadata": {},
   "source": [
    "A volte ti puoi trovare nella ripetizione di un ciclo e desiderare di terminare l’iterazione corrente saltando immediatamente alla successiva. In questo caso puoi usare l’istruzione continue per saltare alla successiva iterazione senza terminare il\n",
    "corpo del ciclo per l’iterazione corrente. Di seguito puoi vedere un esempio di un ciclo che copia l’input ricevuto fino a quando l’utente digita “done” e considera le righe che iniziano con il carattere cancelletto (#) come righe da non visualizzare\n",
    "(un po’ come i commenti di Python)."
   ]
  },
  {
   "cell_type": "code",
   "execution_count": 54,
   "id": "7f742797",
   "metadata": {},
   "outputs": [
    {
     "name": "stdout",
     "output_type": "stream",
     "text": [
      "> 1\n",
      "1\n",
      "> # 2\n",
      "> 3\n",
      "3\n",
      "> done\n",
      "Done!\n"
     ]
    }
   ],
   "source": [
    "while True:\n",
    "    line = input('> ')\n",
    "    if line[0] == '#':\n",
    "        continue\n",
    "    if line == 'done':\n",
    "        break\n",
    "    print(line)\n",
    "print('Done!')"
   ]
  },
  {
   "cell_type": "markdown",
   "id": "b693d45f",
   "metadata": {},
   "source": [
    "Ecco un esempio di questo nuovo programma con l’aggiunta di continue.\n"
   ]
  },
  {
   "cell_type": "code",
   "execution_count": null,
   "id": "a07d7072",
   "metadata": {},
   "outputs": [],
   "source": [
    "> hello there\n",
    "hello there\n",
    "> # don't print this\n",
    "> print this!\n",
    "print this!\n",
    "> done\n",
    "Done!"
   ]
  },
  {
   "cell_type": "markdown",
   "id": "a0c1d493",
   "metadata": {},
   "source": [
    "Vengono visualizzati tutti gli input, tranne quelli che iniziano con il segno cancelletto perché, quando viene eseguito continue, l’iterazione corrente termina e ritorna all’istruzione while per iniziare la successiva saltando l’istruzione print."
   ]
  },
  {
   "cell_type": "markdown",
   "id": "cdf2f309",
   "metadata": {},
   "source": [
    "# ciclo for"
   ]
  },
  {
   "cell_type": "markdown",
   "id": "8eb78ae1",
   "metadata": {},
   "source": [
    "<img src='ciclo_for.jpg'>"
   ]
  },
  {
   "cell_type": "markdown",
   "id": "5063da65",
   "metadata": {},
   "source": [
    "La traduzione nel linguaggio naturale di questo ciclo for non è diretta come il while, ma se pensi agli amici come ad un insieme, funziona così: “Esegui le istruzioni nel corpo del ciclo for una volta per ogni amico (friend) contenuto nell’insieme chiamato amici (friends).” Mentre studi il ciclo for ricorda che for e in sono parole chiave Python riservate mentre friend e friends sono variabili."
   ]
  },
  {
   "cell_type": "code",
   "execution_count": 31,
   "id": "b6021777",
   "metadata": {},
   "outputs": [
    {
     "name": "stdout",
     "output_type": "stream",
     "text": [
      "Happy New Year: Giuseppe\n",
      "Happy New Year: Anna\n",
      "Happy New Year: Paolo\n"
     ]
    }
   ],
   "source": [
    "friends=['Giuseppe','Anna','Paolo']\n",
    "for friend in friends:\n",
    "    print('Happy New Year:', friend)"
   ]
  },
  {
   "cell_type": "markdown",
   "id": "985a3fbe",
   "metadata": {},
   "source": [
    "In particolare, friend è la variabile di iterazione per il ciclo for: la variabile friend cambia in ogni iterazione del ciclo e controlla quando il ciclo for terminerà.\n",
    "La variabile di iterazione scorre in successione le tre stringhe memorizzate nella variabile friends.\n"
   ]
  },
  {
   "cell_type": "markdown",
   "id": "3554ecfd",
   "metadata": {},
   "source": [
    "# schemi di ciclo"
   ]
  },
  {
   "cell_type": "markdown",
   "id": "066eeab3",
   "metadata": {},
   "source": [
    "Spesso usiamo un ciclo for o while per scorrere un elenco di elementi o il contenuto\n",
    "di un file cercando qualcosa, come ad esempio, il valore più grande o più piccolo dei\n",
    "dati che stiamo scansionando. Questi cicli sono generalmente costruiti in questo\n",
    "modo:\n",
    "\n",
    "• Inizializzazione di una o più variabili prima dell’inizio del ciclo;\n",
    "\n",
    "• Esecuzione di alcuni calcoli su ciascun elemento nel blocco del ciclo, eventualmente\n",
    "modificando le variabili nel blocco del ciclo;\n",
    "\n",
    "• Osservazione delle variabili risultanti al termine del ciclo.\n",
    "\n",
    "Useremo un elenco di numeri per dimostrare i concetti e la costruzione di questi\n",
    "schemi di ciclo"
   ]
  },
  {
   "cell_type": "markdown",
   "id": "5df115d2",
   "metadata": {},
   "source": [
    "# cicli per contare"
   ]
  },
  {
   "cell_type": "markdown",
   "id": "68fb935a",
   "metadata": {},
   "source": [
    "Ad esempio, per contare il numero di elementi in una lista, useremo il seguente\n",
    "ciclo for:"
   ]
  },
  {
   "cell_type": "code",
   "execution_count": 56,
   "id": "d35bf63a",
   "metadata": {},
   "outputs": [
    {
     "name": "stdout",
     "output_type": "stream",
     "text": [
      "Count:  6\n"
     ]
    }
   ],
   "source": [
    "count = 0\n",
    "for itervar in [3, 41, 12, 9, 74, 15]:\n",
    "    count = count + 1\n",
    "print('Count: ', count)"
   ]
  },
  {
   "cell_type": "markdown",
   "id": "5bcff40c",
   "metadata": {},
   "source": [
    "La variabile count viene impostata su zero prima dell’inizio del ciclo, ed il ciclo for scorre l’elenco dei numeri. La nostra variabile di iterazione si chiama itervar e sebbene non usiamo itervar nel ciclo, controlla il ciclo e fa sì che il corpo\n",
    "del ciclo sia eseguito una volta per ciascuno dei valori nella lista. Nel blocco del ciclo, aggiungiamo 1 al valore corrente di “count” per ciascuno dei valori dell’elenco.\n",
    "Mentre il ciclo è in esecuzione, il valore di “count” è il numero di valori che abbiamo visto “finora”. Una volta ok, il valore finale di count è il numero totale di elementi.\n",
    "Costruiamo il ciclo in modo da ottenere ciò che vogliamo al termine del ciclo. Un altro ciclo simile che calcola la somma di un insieme di numeri è il seguente:"
   ]
  },
  {
   "cell_type": "code",
   "execution_count": 57,
   "id": "b9287abb",
   "metadata": {},
   "outputs": [
    {
     "name": "stdout",
     "output_type": "stream",
     "text": [
      "Total:  154\n"
     ]
    }
   ],
   "source": [
    "total = 0\n",
    "for itervar in [3, 41, 12, 9, 74, 15]:\n",
    "    total = total + itervar\n",
    "print('Total: ', total)"
   ]
  },
  {
   "cell_type": "markdown",
   "id": "94f3a5a8",
   "metadata": {},
   "source": [
    "Come puoi vedere, in questo ciclo abbiamo utilizzato la variabile di iterazione. Invece di aggiungere semplicemente uno a count, come nel ciclo precedente, aggiungiamo il valore effettivo (3, 41, 12, ecc.) al totale parziale durante ogni iterazione\n",
    "del ciclo. La variabile total, contiene pertanto il “totale parziale dei valori finora esaminati”. Quindi, prima che inizi il primo ciclo, total è zero perché non abbiamo ancora esaminato alcun valore, durante il ciclo, total è il totale parziale, e alla fine del ciclo total è il totale complessivo di tutti i valori dell’elenco. Mentre il ciclo viene eseguito, total accumula la somma degli elementi. Una variabile usata in questo modo viene talvolta chiamata accumulatore.\n",
    "Né il ciclo di conteggio né il ciclo di somma sono particolarmente utili nella pratica perché già esistono due funzioni len () e sum (), che calcolano rispettivamente il numero di elementi e il totale degli elementi dell’elenco."
   ]
  },
  {
   "cell_type": "markdown",
   "id": "a7d7f145",
   "metadata": {},
   "source": [
    "# stringhe"
   ]
  },
  {
   "cell_type": "markdown",
   "id": "41a6cdd4",
   "metadata": {},
   "source": [
    "<img src='stringhe1.jpg'>"
   ]
  },
  {
   "cell_type": "markdown",
   "id": "82eb6990",
   "metadata": {},
   "source": [
    "<img src='stringhe2.jpg'>"
   ]
  },
  {
   "cell_type": "markdown",
   "id": "d04a144d",
   "metadata": {},
   "source": [
    "# ottenere la lunghezza di una stringa utilizzando len"
   ]
  },
  {
   "cell_type": "markdown",
   "id": "ee784750",
   "metadata": {},
   "source": [
    "len è una funzione che restituisce il numero di caratteri in una stringa:"
   ]
  },
  {
   "cell_type": "code",
   "execution_count": 58,
   "id": "608d21b2",
   "metadata": {},
   "outputs": [],
   "source": [
    "fruit = 'banana'\n"
   ]
  },
  {
   "cell_type": "code",
   "execution_count": 59,
   "id": "7e3df9d9",
   "metadata": {},
   "outputs": [
    {
     "data": {
      "text/plain": [
       "6"
      ]
     },
     "execution_count": 59,
     "metadata": {},
     "output_type": "execute_result"
    }
   ],
   "source": [
    "len(fruit)"
   ]
  },
  {
   "cell_type": "markdown",
   "id": "94dfb5a9",
   "metadata": {},
   "source": [
    "Per ottenere l’ultima lettera di una stringa, potresti essere tentato di provare qualcosa del genere:"
   ]
  },
  {
   "cell_type": "code",
   "execution_count": 60,
   "id": "c41fc5d3",
   "metadata": {},
   "outputs": [],
   "source": [
    "length = len(fruit)\n"
   ]
  },
  {
   "cell_type": "code",
   "execution_count": null,
   "id": "0a39cdba",
   "metadata": {},
   "outputs": [],
   "source": [
    "last = fruit[length]"
   ]
  },
  {
   "cell_type": "markdown",
   "id": "57f49d71",
   "metadata": {},
   "source": [
    "Il motivo del messaggio d’errore è che non vi è alcuna lettera in “banana” con l’indice 6. Considerato che abbiamo iniziato a contare da zero, le sei lettere sono numerate da 0 a 5. Per ottenere l’ultimo carattere, dovrai sottrarre 1 a length:"
   ]
  },
  {
   "cell_type": "code",
   "execution_count": 61,
   "id": "6cc773e3",
   "metadata": {},
   "outputs": [],
   "source": [
    "last = fruit[length-1]\n"
   ]
  },
  {
   "cell_type": "code",
   "execution_count": 62,
   "id": "328df8b6",
   "metadata": {},
   "outputs": [
    {
     "name": "stdout",
     "output_type": "stream",
     "text": [
      "a\n"
     ]
    }
   ],
   "source": [
    "print(last)"
   ]
  },
  {
   "cell_type": "markdown",
   "id": "ff6b7004",
   "metadata": {},
   "source": [
    "In alternativa, puoi usare indici negativi, che partono a contare dalla fine della stringa. L’espressione fruit [-1] ci darà l’ultima lettera, fruit [-2] ci darà la penultima, e così via."
   ]
  },
  {
   "cell_type": "markdown",
   "id": "cc0dbb8b",
   "metadata": {},
   "source": [
    "# scorrere una stringa con un ciclo"
   ]
  },
  {
   "cell_type": "markdown",
   "id": "008c87d4",
   "metadata": {},
   "source": [
    "Molti calcoli comportano l’elaborazione di un carattere alla volta di una stringa.\n",
    "Spesso cominciano dall’inizio, selezionano ciascun carattere a turno, fanno qualcosa e continuano fino alla fine. \n",
    "Un modo per codificare uno scorrimento consiste nell’utilizzare un ciclo while:"
   ]
  },
  {
   "cell_type": "code",
   "execution_count": 1,
   "id": "4c1cfeb4",
   "metadata": {},
   "outputs": [
    {
     "name": "stdout",
     "output_type": "stream",
     "text": [
      "b\n",
      "a\n",
      "n\n",
      "a\n",
      "n\n",
      "a\n"
     ]
    }
   ],
   "source": [
    "fruit='banana'\n",
    "index = 0\n",
    "while index < len(fruit):\n",
    "    letter = fruit[index]\n",
    "    print(letter)\n",
    "    index = index + 1"
   ]
  },
  {
   "cell_type": "markdown",
   "id": "ecf45bc7",
   "metadata": {},
   "source": [
    "Questo ciclo scorre la stringa e mostra una singola lettera su una riga separata.\n",
    "La condizione del ciclo è index < len(fruit), quindi quando index è uguale alla lunghezza della stringa, la condizione è falsa e il corpo del ciclo non viene più eseguito. L’ultimo carattere a cui si accede è quello con l’indice uguale a len(fruit)-1, che è l’ultimo carattere nella stringa."
   ]
  },
  {
   "cell_type": "markdown",
   "id": "946a8d1e",
   "metadata": {},
   "source": [
    "Un altro modo per scrivere uno scorrimento è con un ciclo for:"
   ]
  },
  {
   "cell_type": "code",
   "execution_count": 2,
   "id": "352dc875",
   "metadata": {},
   "outputs": [
    {
     "name": "stdout",
     "output_type": "stream",
     "text": [
      "b\n",
      "a\n",
      "n\n",
      "a\n",
      "n\n",
      "a\n"
     ]
    }
   ],
   "source": [
    "for char in fruit:\n",
    "    print(char)"
   ]
  },
  {
   "cell_type": "markdown",
   "id": "ef2583df",
   "metadata": {},
   "source": [
    "Ogni volta che viene eseguito il ciclo, viene assegnato alla variabile char il carattere successivo nella stringa. Il ciclo si ripete fino a quando non rimane alcun carattere."
   ]
  },
  {
   "cell_type": "markdown",
   "id": "ac89e4f9",
   "metadata": {},
   "source": [
    "# segmenti di stringhe"
   ]
  },
  {
   "cell_type": "markdown",
   "id": "b0b5fe24",
   "metadata": {},
   "source": [
    "Il segmento di una stringa è chiamato slice. La selezione di un segmento è simile alla selezione di un carattere:"
   ]
  },
  {
   "cell_type": "code",
   "execution_count": 3,
   "id": "568fb441",
   "metadata": {},
   "outputs": [
    {
     "name": "stdout",
     "output_type": "stream",
     "text": [
      "Monty\n"
     ]
    }
   ],
   "source": [
    "s = 'Monty Python'\n",
    "print(s[0:5])\n",
    "\n"
   ]
  },
  {
   "cell_type": "code",
   "execution_count": 5,
   "id": "52095e79",
   "metadata": {},
   "outputs": [
    {
     "name": "stdout",
     "output_type": "stream",
     "text": [
      "Python\n"
     ]
    }
   ],
   "source": [
    "print(s[6:12])\n"
   ]
  },
  {
   "cell_type": "markdown",
   "id": "f733a73a",
   "metadata": {},
   "source": [
    "L’operatore restituisce la parte della stringa dal carattere indicato con il primo indice (incluso) al carattere indicato con il secondo indice (escluso). Se si omette il primo parametro (prima dei due punti), il segmento parte dall’inizio della stringa.\n",
    "Se invece si omette il secondo, il segmento arriva alla fine della stringa:"
   ]
  },
  {
   "cell_type": "code",
   "execution_count": 6,
   "id": "ac6c81e0",
   "metadata": {},
   "outputs": [],
   "source": [
    "fruit = 'banana'\n"
   ]
  },
  {
   "cell_type": "code",
   "execution_count": 7,
   "id": "675efee9",
   "metadata": {},
   "outputs": [
    {
     "data": {
      "text/plain": [
       "'ban'"
      ]
     },
     "execution_count": 7,
     "metadata": {},
     "output_type": "execute_result"
    }
   ],
   "source": [
    "fruit[:3]"
   ]
  },
  {
   "cell_type": "markdown",
   "id": "026f8f72",
   "metadata": {},
   "source": [
    "fruit[3:]"
   ]
  },
  {
   "cell_type": "markdown",
   "id": "5822a889",
   "metadata": {},
   "source": [
    "Se il primo parametro è maggiore o uguale al secondo, otterrai una stringa vuota,rappresentata da due virgolette:"
   ]
  },
  {
   "cell_type": "code",
   "execution_count": 8,
   "id": "628768f6",
   "metadata": {},
   "outputs": [],
   "source": [
    "fruit = 'banana'"
   ]
  },
  {
   "cell_type": "code",
   "execution_count": 9,
   "id": "91b096a1",
   "metadata": {},
   "outputs": [
    {
     "data": {
      "text/plain": [
       "''"
      ]
     },
     "execution_count": 9,
     "metadata": {},
     "output_type": "execute_result"
    }
   ],
   "source": [
    "fruit[3:3]"
   ]
  },
  {
   "cell_type": "markdown",
   "id": "20e118d7",
   "metadata": {},
   "source": [
    "Una stringa vuota è uguale a qualsiasi altra stringa nonostante non contenga Una stringa vuota è uguale a qualsiasi altra stringa nonostante non contenga caratteri ed abbia lunghezza pari a 0.\n"
   ]
  },
  {
   "cell_type": "markdown",
   "id": "7710326b",
   "metadata": {},
   "source": [
    "# le stringhe sono immutabili"
   ]
  },
  {
   "cell_type": "markdown",
   "id": "4afcac08",
   "metadata": {},
   "source": [
    "<img src='stringhe3.jpg'>"
   ]
  },
  {
   "cell_type": "markdown",
   "id": "41027908",
   "metadata": {},
   "source": [
    "# sequenze"
   ]
  },
  {
   "cell_type": "markdown",
   "id": "5d6f09cc",
   "metadata": {},
   "source": [
    "<img src='sequenza.jpg'>"
   ]
  },
  {
   "cell_type": "code",
   "execution_count": 32,
   "id": "bf6c7181",
   "metadata": {},
   "outputs": [],
   "source": [
    "mystr='mia'"
   ]
  },
  {
   "cell_type": "code",
   "execution_count": 34,
   "id": "462b0fd5",
   "metadata": {},
   "outputs": [],
   "source": [
    "mystr='tua'"
   ]
  },
  {
   "cell_type": "markdown",
   "id": "2775a5e6",
   "metadata": {},
   "source": [
    "# gli elenchi sono mutabili"
   ]
  },
  {
   "cell_type": "markdown",
   "id": "09f28231",
   "metadata": {},
   "source": [
    "<img src='elenchi.jpg'>"
   ]
  },
  {
   "cell_type": "markdown",
   "id": "2eb69776",
   "metadata": {},
   "source": [
    "# scorrere un elenco"
   ]
  },
  {
   "cell_type": "markdown",
   "id": "4ca54dc5",
   "metadata": {},
   "source": [
    "Il modo più comune di scorrere gli elementi di un elenco è un ciclo for. La sintassi\n",
    "è la stessa delle stringhe:"
   ]
  },
  {
   "cell_type": "code",
   "execution_count": 4,
   "id": "1202ff1d",
   "metadata": {},
   "outputs": [
    {
     "name": "stdout",
     "output_type": "stream",
     "text": [
      "toma\n",
      "pecorino\n",
      "maccagno\n"
     ]
    }
   ],
   "source": [
    "cheeses=['toma','pecorino','maccagno']\n",
    "for cheese in cheeses:\n",
    "    print(cheese)"
   ]
  },
  {
   "cell_type": "markdown",
   "id": "df0bb68c",
   "metadata": {},
   "source": [
    "<img src='elenchi1.jpg'>"
   ]
  },
  {
   "cell_type": "markdown",
   "id": "e5614637",
   "metadata": {},
   "source": [
    "# operazioni sugli elenchi"
   ]
  },
  {
   "cell_type": "markdown",
   "id": "316a0e56",
   "metadata": {},
   "source": [
    "<img src='operazioni_sugli_elenchi.jpg'>"
   ]
  },
  {
   "cell_type": "markdown",
   "id": "c635d2fa",
   "metadata": {},
   "source": [
    "# slicing sugli elenchi"
   ]
  },
  {
   "cell_type": "markdown",
   "id": "23a3fb91",
   "metadata": {},
   "source": [
    "<img src='slicing_sugli_elenchi.jpg'>"
   ]
  },
  {
   "cell_type": "markdown",
   "id": "ccd5e8bb",
   "metadata": {},
   "source": [
    "# metodi degli elenchi"
   ]
  },
  {
   "cell_type": "markdown",
   "id": "95ca6d29",
   "metadata": {},
   "source": [
    "<img src='metodi_degli_elenchi.jpg'>"
   ]
  },
  {
   "cell_type": "markdown",
   "id": "f7f82d54",
   "metadata": {},
   "source": [
    "<img src='metodi_sugli_elenchi_1.jpg'>"
   ]
  },
  {
   "cell_type": "markdown",
   "id": "c3225870",
   "metadata": {},
   "source": [
    "# eliminazione dagli elenchi"
   ]
  },
  {
   "cell_type": "markdown",
   "id": "a6986e99",
   "metadata": {},
   "source": [
    "<img src='elenchi_funzioni.jpg'>"
   ]
  },
  {
   "cell_type": "markdown",
   "id": "45023266",
   "metadata": {},
   "source": [
    "<img src='fine_elenchi.jpg'>"
   ]
  },
  {
   "cell_type": "code",
   "execution_count": 14,
   "id": "1471c1f0",
   "metadata": {},
   "outputs": [],
   "source": [
    "numlist=[]"
   ]
  },
  {
   "cell_type": "code",
   "execution_count": 15,
   "id": "ff3e95ed",
   "metadata": {},
   "outputs": [
    {
     "name": "stdout",
     "output_type": "stream",
     "text": [
      "Enter a number: 1\n",
      "Enter a number: 1\n",
      "Enter a number: 1\n",
      "Enter a number: done\n"
     ]
    }
   ],
   "source": [
    "while True:\n",
    "    inp = input('Enter a number: ')\n",
    "    if inp == 'done': \n",
    "        break\n",
    "    value = float(inp)\n",
    "    numlist.append(value)\n",
    "    "
   ]
  },
  {
   "cell_type": "code",
   "execution_count": 16,
   "id": "97a9a3c2",
   "metadata": {},
   "outputs": [],
   "source": [
    "average = sum(numlist) / len(numlist)"
   ]
  },
  {
   "cell_type": "code",
   "execution_count": 17,
   "id": "607c7268",
   "metadata": {},
   "outputs": [
    {
     "name": "stdout",
     "output_type": "stream",
     "text": [
      "Average: 1.0\n"
     ]
    }
   ],
   "source": [
    "\n",
    "print('Average:', average)"
   ]
  },
  {
   "cell_type": "markdown",
   "id": "b52d5819",
   "metadata": {},
   "source": [
    "# elenchi e stringhe"
   ]
  },
  {
   "cell_type": "markdown",
   "id": "2debd28e",
   "metadata": {},
   "source": [
    "<img src='elenchi_stringhe.jpg'>"
   ]
  },
  {
   "cell_type": "markdown",
   "id": "8402f606",
   "metadata": {},
   "source": [
    "<img src='elenchi_stringhe1.jpg'>"
   ]
  },
  {
   "cell_type": "markdown",
   "id": "319f0a31",
   "metadata": {},
   "source": [
    "# oggetti e valori"
   ]
  },
  {
   "cell_type": "markdown",
   "id": "14056d5a",
   "metadata": {},
   "source": [
    "<img src='oggetti_valori.jpg'>"
   ]
  },
  {
   "cell_type": "markdown",
   "id": "8d88b691",
   "metadata": {},
   "source": [
    "# alias"
   ]
  },
  {
   "cell_type": "markdown",
   "id": "003430d0",
   "metadata": {},
   "source": [
    "<img src='alias.jpg'>"
   ]
  },
  {
   "cell_type": "markdown",
   "id": "5e62da36",
   "metadata": {},
   "source": [
    "# elenchi come argomenti"
   ]
  },
  {
   "cell_type": "markdown",
   "id": "d98334be",
   "metadata": {},
   "source": [
    "<img src='elenchi_come_argomenti.jpg'>"
   ]
  },
  {
   "cell_type": "markdown",
   "id": "a29c7689",
   "metadata": {},
   "source": [
    "<img src='elenchi_come_argomenti_1.jpg'>"
   ]
  },
  {
   "cell_type": "markdown",
   "id": "0340654e",
   "metadata": {},
   "source": [
    "# dizionario"
   ]
  },
  {
   "cell_type": "markdown",
   "id": "2c64d5bc",
   "metadata": {},
   "source": [
    "<img src='dizionario.jpg'>"
   ]
  },
  {
   "cell_type": "markdown",
   "id": "c4c37736",
   "metadata": {},
   "source": [
    "<img src='dizionario2.jpg'>"
   ]
  },
  {
   "cell_type": "markdown",
   "id": "67379ce1",
   "metadata": {},
   "source": [
    "# tuple"
   ]
  },
  {
   "cell_type": "markdown",
   "id": "62fd565a",
   "metadata": {},
   "source": [
    "<img src='tuple.jpg'>"
   ]
  },
  {
   "cell_type": "markdown",
   "id": "6ddf42e5",
   "metadata": {},
   "source": [
    "<img src='tuple1.jpg'>"
   ]
  },
  {
   "cell_type": "code",
   "execution_count": null,
   "id": "815381d9",
   "metadata": {},
   "outputs": [],
   "source": []
  }
 ],
 "metadata": {
  "kernelspec": {
   "display_name": "Python 3",
   "language": "python",
   "name": "python3"
  },
  "language_info": {
   "codemirror_mode": {
    "name": "ipython",
    "version": 3
   },
   "file_extension": ".py",
   "mimetype": "text/x-python",
   "name": "python",
   "nbconvert_exporter": "python",
   "pygments_lexer": "ipython3",
   "version": "3.8.7"
  }
 },
 "nbformat": 4,
 "nbformat_minor": 5
}
